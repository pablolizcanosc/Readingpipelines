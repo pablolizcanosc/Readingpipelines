{
 "cells": [
  {
   "cell_type": "code",
   "execution_count": 1,
   "metadata": {},
   "outputs": [],
   "source": [
    "def VERBpipeline(x):\n",
    "    x._.att_li[\"aux_labels\"] = []\n",
    "    if x._.att_li[\"family\"]==\"\":\n",
    "        x._.att_li[\"family\"] = \"VERB\"\n",
    "        x._.att_li[\"subtype\"] = \"MAIN\"\n",
    "    morphoverb = x.morph.to_dict()\n",
    "    for i in x.children:\n",
    "        if i.dep_ == \"svp\":\n",
    "            i._.att_li[\"family\"] = \"VERB\" #+= [\"SEPARABLE_VERB_p\"]\n",
    "            i._.att_li[\"subtype\"] = \"SVP\"\n",
    "            \n",
    "            x._.att_li[\"aux_labels\"] += [\"SEPARABLE_VERB\"]\n",
    "            x._.att_li[\"aux_string\"] = i.text\n",
    "        elif i.pos_ == \"AUX\":\n",
    "            i._.att_li[\"family\"] = \"VERB\"\n",
    "            i._.att_li[\"subtype\"] = \"AUX\"\n",
    "        else:\n",
    "            adder=0\n",
    "            morphochild = i.morph.to_dict()\n",
    "            if morphochild.get(\"Reflex\",\"No\")==\"Yes\":\n",
    "                x._.att_li[\"aux_labels\"] += [\"REFLEXIVE_VERB\"]\n",
    "                i._.att_li[\"family\"] = \"VERB\"\n",
    "                i._.att_li[\"subtype\"] = \"REFLEXPRON\"\n",
    "            elif (\"Number\" in morphoverb) and (\"Person\" in morphoverb):\n",
    "                if (i.pos_==\"PRON\") and (morphochild[\"PronType\"]==\"Prs\"):\n",
    "                    for j in [\"Number\",\"Person\"]:\n",
    "                        adder+=(morphochild[j]==morphoverb[j])\n",
    "                    if adder == 2:\n",
    "                        #i._.extra_info += i._.extra_info+[\"REFLEXIVE_VERB_p\"]\n",
    "                        i._.att_li[\"family\"] = \"VERB\"\n",
    "                        i._.att_li[\"subtype\"] = \"REFLEXPRON\"\n",
    "                        x._.att_li[\"aux_labels\"] += [\"REFLEXIVE_VERB\"]\n",
    "                        \n",
    "def nonVERBpipeline(x):\n",
    "    x._.att_li[\"aux_labels\"] = []\n",
    "    if x.pos_ in [\"NOUN\", \"PRON\", \"PROPN\", \"ADJ\", \"DET\"]:\n",
    "        if x._.att_li[\"family\"] == \"\":\n",
    "            x._.att_li[\"family\"] = \"NOUN\"\n",
    "            x._.att_li[\"subtype\"] = x.pos_\n",
    "        morphodict = x.morph.to_dict()\n",
    "        x._.att_li[\"aux_labels\"] += [morphodict[i].upper() for i in morphodict if i in [\"Gender\",\"Case\",\"Number\"]]\n",
    "    elif x.pos_ not in [\"X\",\"SPACE\",\"PUNCT\"]:\n",
    "        if x._.att_li[\"family\"] == \"\":\n",
    "                x._.att_li[\"family\"] = \"OTHERS\"\n",
    "                x._.att_li[\"subtype\"] = x.pos_\n",
    "                \n",
    "def computeattli(doc):\n",
    "    for i in doc:\n",
    "        if i.pos_ in [\"VERB\",\"AUX\"]:\n",
    "            VERBpipeline(i)\n",
    "        else:\n",
    "            nonVERBpipeline(i)\n",
    "        #print(i,i._.att_li)"
   ]
  },
  {
   "cell_type": "code",
   "execution_count": 2,
   "metadata": {},
   "outputs": [],
   "source": [
    "def formattokens(x, case = True, gender = True, number = True):\n",
    "    attributes = x._.att_li\n",
    "    formatted = x.text\n",
    "    if attributes[\"family\"]==\"VERB\":\n",
    "        formatted=\"<b>{}</b>\".format(formatted)\n",
    "    else:\n",
    "        if case:\n",
    "            if \"Nom\" in attributes[\"aux_labels\"]:\n",
    "                formatted = '<span class=\"doubleUnderline\">{}</span>'.format(formatted)\n",
    "            if \"Acc\" in attributes[\"aux_labels\"]:\n",
    "                formatted = '<span class=\"normalUnderline\">{}</span>'.format(formatted)\n",
    "            if \"Dat\" in attributes[\"aux_labels\"]:\n",
    "                formatted = '<span class=\"dashedUnderline\">{}</span>'.format(formatted)\n",
    "            if \"Gen\" in attributes[\"aux_labels\"]:\n",
    "                formatted = '<span class=\"dottedUnderline\">{}</span>'.format(formatted)\n",
    "        if gender:\n",
    "            if \"Masc\" in attributes[\"aux_labels\"]:\n",
    "                formatted ='<span style=\"color: blue\">{}</span>'.format(formatted)\n",
    "            if \"Fem\" in attributes[\"aux_labels\"]:\n",
    "                formatted ='<span style=\"color: pink\">{}</span>'.format(formatted)\n",
    "            if \"Neut\" in attributes[\"aux_labels\"]:\n",
    "                formatted ='<span style=\"color: orange\">{}</span>'.format(formatted)\n",
    "        if number:\n",
    "            if \"Plur\" in attributes[\"aux_labels\"]:\n",
    "                formatted ='<span class=\"normalOverline\">{}</span>'.format(formatted)\n",
    "            if \"Sing\" in attributes[\"aux_labels\"]:\n",
    "                #formatted ='<span style=\"color: orange\">{}</span>'.format(formatted)\n",
    "                pass\n",
    "\n",
    "    x._.html_formatted= formatted\n",
    "        \n",
    "def computeformat(doc):\n",
    "    for i in doc:\n",
    "        formattokens(i)\n",
    "        \n",
    "def printFormattedText(doc):\n",
    "    initialstring = \"\"\n",
    "    html = '<!DOCTYPE html><html lang=\"en\"><head><link href=\"stylevisualaid.css\" rel=\"stylesheet\"></head><body><p style=\"line-height: 200%\">{}</p></body></html>'\n",
    "    for i in doc:\n",
    "        if i.is_punct==True:\n",
    "            initialstring+=i._.html_formatted\n",
    "        else:\n",
    "            initialstring+= \" \"+ i._.html_formatted\n",
    "    with open(\"visualaid.html\",\"w\") as fp:\n",
    "        fp.write(html.format(initialstring.replace(\"\\n\",\"</br>\")))"
   ]
  },
  {
   "cell_type": "code",
   "execution_count": 3,
   "metadata": {},
   "outputs": [],
   "source": [
    "\n",
    "def findword(ff,x):\n",
    "    #ff = pd.read_csv(vocabfile)\n",
    "    ffx = ff[ff[\"entries\"].apply(lambda y: x in y)].sort_values(\"nwords\")\n",
    "    if len(ffx)==1:\n",
    "        return ffx.iloc[0].to_dict()\n",
    "    ffx = ffx[ffx[\"nwords\"]==ffx[\"nwords\"].min()]\n",
    "    if len(ffx)==1:\n",
    "        return ffx.iloc[0].to_dict()\n",
    "    return {}\n",
    "def enrichnewvocabulary(newvocdf,ff):\n",
    "\n",
    "    enrichment = newvocdf[\"word\"].apply(lambda x: findword(ff,x))\n",
    "    enrichment = enrichment.apply(pd.Series)\n",
    "    listenrichedwords = enrichment[\"entries\"].to_list()\n",
    "    return pd.concat([newvocdf,enrichment[[\"entries\",\"examples\",\"translation\"]]],axis=1),listenrichedwords\n",
    "\n",
    "def newwordchecker(doc,wordlistname,vocabfile,texttitle):\n",
    "\n",
    "    today = date.today()\n",
    "    d1 = today.strftime(\"%Y/%m/%d\")\n",
    "    try:\n",
    "        wordlist = pd.read_csv(wordlistname, sep ='|')\n",
    "    except:\n",
    "        wordlist = pd.DataFrame(columns = [\"word\",\"pos\",\"firsttime\",\"lasttime\",\"counter\"])\n",
    "    newwords = []\n",
    "    for x in doc:\n",
    "        if x.pos_ not in [\"NUM\",\"X\",\"PROPN\",\"SPACE\",\"PART\",\"PUNCT\"]:\n",
    "            rowword = wordlist[wordlist[\"word\"]==x._.att_li[\"aux_string\"]+x.lemma_]\n",
    "            if len(rowword)==1:\n",
    "                index = rowword.index[0]\n",
    "                if x.pos_ not in wordlist.loc[index,\"pos\"]:\n",
    "                    wordlist.loc[index,\"pos\"] += \", \"+x.pos_\n",
    "                wordlist.loc[index,\"lasttime\"] = today.strftime(\"%Y/%m/%d\")\n",
    "                wordlist.loc[index,\"counter\"] += 1\n",
    "            if len(rowword)==0:\n",
    "                x._.newword= True\n",
    "                newwords.append({\"word\":x._.att_li[\"aux_string\"]+x.lemma_,\"pos\": x.pos_, \"firsttime\":d1, \"lasttime\":d1,\"counter\":1})\n",
    "    newvocdf = pd.DataFrame(newwords)\n",
    "    ff = pd.read_csv(vocabfile, sep = \"|\")\n",
    "    report,listenriched = enrichnewvocabulary(newvocdf, ff)\n",
    "    #render dataframe as html\n",
    "    html = report.to_html()\n",
    "\n",
    "    #write html to file\n",
    "    text_file = open(\"report_\"+texttitle+\".html\", \"w\")\n",
    "    text_file.write(html)\n",
    "    text_file.close()\n",
    "    \n",
    "    pd.concat([wordlist, report]).to_csv(wordlistname, sep ='|', index= False)\n",
    "\n",
    "    if \"counter\" not in ff.columns:\n",
    "        ff[\"counter\"] = 0\n",
    "        ff[\"firsttime\"] = \"never\"\n",
    "        ff[\"lasttime\"] = \"never\"\n",
    "        \n",
    "    ff.loc[ff[\"entries\"].apply(lambda x: x in listenriched), \"counter\"]+=1\n",
    "    ff.loc[(ff[\"entries\"].apply(lambda x: x in listenriched))&(ff[\"firsttime\"]==\"never\"), \"firsttime\"] = d1\n",
    "    ff.loc[ff[\"entries\"].apply(lambda x: x in listenriched), \"lasttime\"]=d1\n",
    "    ff.to_csv(vocabfile, sep ='|', index= False)\n",
    "\n",
    "\n"
   ]
  },
  {
   "cell_type": "code",
   "execution_count": 4,
   "metadata": {},
   "outputs": [],
   "source": [
    "\n",
    "\n",
    "        \n",
    "def extractnewword(sentence):\n",
    "    tokens = pd.Series(sentence)\n",
    "    df = tokens.apply(lambda x: {\"token\":x,\"newword\":x._.newword,\"qc\":x._.questioncategory}).apply(pd.Series)\n",
    "    filtered = df[df[\"newword\"]&(df[\"qc\"]!=0)]\n",
    "    if len(filtered)==0:\n",
    "        return {\"question\":\"no_question\"}\n",
    "    chosenword = filtered.sample(frac=1).iloc[0]\n",
    "    return {\"question\": sentence, \"word\": chosenword[\"token\"],\"qc\":chosenword[\"qc\"]}\n",
    "\n",
    "def other3(word, qc,qcdf):\n",
    "    if qc>0:\n",
    "        inddel = qcdf[(qcdf[\"qc\"]==qc)&(qcdf[\"word\"]==word.text)].index\n",
    "        candidates = qcdf[(qcdf[\"qc\"]==qc)].drop(inddel)\n",
    "    if qc==\"VERB\":\n",
    "        inddel = verbs[verbs[\"word\"]==word.text].index\n",
    "        candidates = verbs.drop(inddel)\n",
    "    return [word.text]+candidates.sample(n = 3)[\"word\"].to_list()\n",
    "\n",
    "def createoption(option, number,correct=False):\n",
    "    if correct:\n",
    "        output = \"\"\"\n",
    "        <input class=\"answer\" type=\"radio\" name=\"q{}\" value=\"1\">\n",
    "        <label id=\"correctString{}\">{}</label>\n",
    "        \"\"\".format(number, number, option)\n",
    "    else:\n",
    "        output = \"\"\"\n",
    "        <input class=\"answer\" type=\"radio\" name=\"q{}\" value=\"0\">\n",
    "        <label>{}</label>\n",
    "        \"\"\".format(number, option)\n",
    "    return output\n",
    "\n",
    "def answer(n):\n",
    "    output = \"\"\"\n",
    "            if (answerScore('[cor]') === 0) {\n",
    "                document.getElementById('correctAnswer[cor]').innerHTML = correctAnswer('correctString[cor]', [cor]);\n",
    "            }\n",
    "    \"\"\".replace(\"[cor]\",str(n))\n",
    "    return output\n",
    "\n",
    "def createquestion(question, options, number):\n",
    "    op1 = createoption(options[0],number,correct=True)\n",
    "    op2 = createoption(options[1],number)\n",
    "    op3 = createoption(options[2],number)\n",
    "    op4 = createoption(options[3],number)\n",
    "    formatedoptions = [op1,op2,op3,op4]\n",
    "    random.shuffle(formatedoptions)\n",
    "    output = \"\"\"\n",
    "<tr>\n",
    "<div>\n",
    "<p class=\"question\">{}. {}</p>\n",
    "<ul>\n",
    "{}\n",
    "<br>\n",
    "{}\n",
    "<br>\n",
    "{}\n",
    "<br>\n",
    "{}\n",
    "</ul>\n",
    "</div>\n",
    "</tr>\"\"\".format(number, question,formatedoptions[0],formatedoptions[1],formatedoptions[2],formatedoptions[3])\n",
    "    return output\n",
    "\n",
    "\n",
    "\n",
    "def quizpipeline(doc,texttitle):\n",
    "    sents = pd.Series(doc.sents)\n",
    "    qcdf = pd.Series(doc).apply(lambda x: {\"word\":x.text,\"qc\":x._.questioncategory}).apply(pd.Series).drop_duplicates()\n",
    "    questionaire = sents.apply(extractnewword).apply(pd.Series)\n",
    "    questionaire=questionaire[questionaire[\"question\"]!=\"no_question\"]\n",
    "    questionaire[\"options\"]=questionaire.apply(lambda x: other3(x[\"word\"],x[\"qc\"],qcdf),axis=1)\n",
    "    questionaire[\"question_text\"] = questionaire.apply(lambda x:x[\"question\"].text.replace(x[\"options\"][0],\"___________\"),axis=1)\n",
    "\n",
    "    all_questions = {}\n",
    "    for i in range(len(questionaire)):\n",
    "        all_questions[questionaire.iloc[i][\"question_text\"].replace(\"\\n\",\"\")]=questionaire.iloc[i][\"options\"]\n",
    "\n",
    "    ind=0\n",
    "    formatedquestions = \"\"\n",
    "    for i in all_questions:\n",
    "        ind+=1\n",
    "        formatedquestions+=createquestion(i,all_questions[i],ind)\n",
    "\n",
    "    start = \"\"\"\n",
    "    <!DOCTYPE html>\n",
    "\n",
    "    <html lang=\"en\">\n",
    "    <head>\n",
    "    <link href=\"elcss.css\" rel=\"stylesheet\">\n",
    "    </head>\n",
    "    <body>\n",
    "      <h2 class=\"quizHeader\">Take a Quiz!</h2>\n",
    "\n",
    "        <table style=\"width:583px\">\n",
    "    \"\"\"\n",
    "\n",
    "    end=\"\"\"\n",
    "        </table>\n",
    "    <br/>\n",
    "      <div class=\"submitter\">\n",
    "              <input class=\"quizSubmit\" id=\"submitButton\" onClick=\"submitQuiz()\"\n",
    "              type=\"submit\" value=\"Submit\" />\n",
    "        </div>\n",
    "\n",
    "    <!--show only wrong answers on submit-->\n",
    "    \"\"\"\n",
    "    correctanswers = \"\"\n",
    "    for i in range(1,ind+1):\n",
    "        correctanswers+= '<div class=\"quizAnswers\" id=\"correctAnswer{}\"></div>'.format(i)\n",
    "\n",
    "    end2 = \"\"\"\n",
    "    <!--show score upon submit-->\n",
    "        <div>\n",
    "            <h2 class=\"quizScore\" id=\"userScore\"></h2>\n",
    "        </div>\n",
    "        </div>\n",
    "        <script src=\"eljstexttitle.js\"></script>\n",
    "    </body>\n",
    "\n",
    "    </html>\n",
    "\n",
    "    \"\"\".replace(\"texttitle\",texttitle)\n",
    "\n",
    "    finalhtml=start+formatedquestions+end+correctanswers+end2\n",
    "\n",
    "\n",
    "    nrq=ind\n",
    "    part1=\"\"\"\n",
    "    // scripts here:\n",
    "\n",
    "        function submitQuiz() {\n",
    "            console.log('submitted');\n",
    "\n",
    "        // get each answer score\n",
    "            function answerScore (qName) {\n",
    "                var radiosNo = document.getElementsByName(qName);\n",
    "\n",
    "                for (var i = 0, length = radiosNo.length; i < length; i++) {\n",
    "                    if (radiosNo[i].checked) {\n",
    "                // do something with radiosNo\n",
    "                        var answerValue = Number(radiosNo[i].value);\n",
    "                    }\n",
    "                }\n",
    "                // change NaNs to zero\n",
    "                if (isNaN(answerValue)) {\n",
    "                    answerValue = 0;\n",
    "                }\n",
    "                return answerValue;\n",
    "            }\n",
    "\n",
    "        // calc score with answerScore function\n",
    "    \"\"\"\n",
    "    aux = []\n",
    "    for i in range(1,nrq+1):\n",
    "        aux.append(\"answerScore('q{}')\".format(i))\n",
    "    part2=\"\t\tvar calcScore = (\"+ \" + \".join(aux)+\");\"\n",
    "    part3=\"\"\"\n",
    "            console.log(\"CalcScore: \" + calcScore); // it works!\n",
    "\n",
    "        // function to return correct answer string\n",
    "            function correctAnswer (correctStringNo, qNumber) {\n",
    "                console.log(\"qNumber: \" + qNumber);  // logs 1,2,3,4 after called below\n",
    "                return (\"The correct answer for question #\" + qNumber + \": &nbsp;<strong>\" +\n",
    "                    (document.getElementById(correctStringNo).innerHTML) + \"</strong>\");\n",
    "                }\n",
    "\n",
    "        // print correct answers only if wrong (calls correctAnswer function)\n",
    "    \"\"\"\n",
    "    part4=\"\"\n",
    "\n",
    "    for i in range(1,nrq+1):\n",
    "        part4+=answer(i)\n",
    "\n",
    "    part5=\"\"\"\n",
    "        // calculate \"possible score\" integer\n",
    "            var questionCountArray = document.getElementsByClassName('question');\n",
    "\n",
    "            var questionCounter = 0;\n",
    "            for (var i = 0, length = questionCountArray.length; i < length; i++) {\n",
    "                questionCounter++;\n",
    "            }\n",
    "\n",
    "        // show score as \"score/possible score\"\n",
    "            var showScore = \"Your Score: \" + calcScore +\"/\" + questionCounter;\n",
    "        // if 4/4, \"perfect score!\"\n",
    "            if (calcScore === questionCounter) {\n",
    "                showScore = showScore + \"&nbsp; <strong>Perfect Score!</strong>\"\n",
    "            };\n",
    "            document.getElementById('userScore').innerHTML = showScore;\n",
    "        }\n",
    "\n",
    "    $(document).ready(function() {\n",
    "\n",
    "        $('#submitButton').click(function() {\n",
    "            $(this).addClass('hide');\n",
    "        });\n",
    "\n",
    "    });\n",
    "    \"\"\"\n",
    "\n",
    "    finaljss=part1+part2+part3+part4+part5\n",
    "\n",
    "    fw = open(\"elhtml\"+texttitle+\".html\", \"w\")\n",
    "    fw.write(finalhtml)\n",
    "    fw.close()\n",
    "\n",
    "    f = open(\"eljs\"+texttitle+\".js\", \"w\")\n",
    "    f.write(finaljss)\n",
    "    f.close()\n",
    "\n",
    "\n",
    "def questionClassifier(x):\n",
    "    subtype = x._.att_li[\"subtype\"]\n",
    "    if subtype in [\"REFLEXPRON\", \"PRON\"]:\n",
    "        x._.questioncategory = 1\n",
    "    elif subtype in [\"MAIN\",\"AUX\"]:\n",
    "        x._.questioncategory = 2\n",
    "    elif subtype ==\"NOUN\":\n",
    "        x._.questioncategory = 3\n",
    "    elif subtype ==\"DET\":\n",
    "        x._.questioncategory = 4\n",
    "    elif subtype == \"ADV\":\n",
    "        x._.questioncategory = 5\n",
    "    elif subtype in [\"ADP\",\"SVP\"]:\n",
    "        x._.questioncategory = 6\n",
    "    elif subtype == \"ADJ\":\n",
    "        x._.questioncategory = 7\n",
    "    elif subtype in [\"CCONJ\", \"SCONJ\", \"PART\"]:\n",
    "        x._.questioncategory = 8\n",
    "    else:\n",
    "        x._.questioncategory = 0\n",
    "        \n",
    "def computeQuestions(doc):\n",
    "    for i in doc:\n",
    "        questionClassifier(i)\n",
    "    questionCount = pd.Series(doc).apply(lambda x: x._.questioncategory).value_counts().to_dict()\n",
    "    delete = [i for i in questionCount if questionCount[i]<4]\n",
    "    for i in doc:\n",
    "        if i._.questioncategory in delete:\n",
    "            i._.questioncategory = 0"
   ]
  },
  {
   "cell_type": "code",
   "execution_count": 5,
   "metadata": {},
   "outputs": [],
   "source": [
    "import pandas as pd\n",
    "import spacy\n",
    "from spacy.tokens import Token\n",
    "import random\n",
    "from datetime import date\n",
    "\n",
    "Token.set_extension('att_li', default={\"family\":\"\",\"subtype\":\"\",\"aux_labels\":[],\"aux_string\":\"\"},force=True)\n",
    "#Token.set_extension('svp', default=\"\",force=True)\n",
    "Token.set_extension(\"html_formatted\", default=\"\",force=True)\n",
    "Token.set_extension(\"questioncategory\",default=\"\",force=True)\n",
    "Token.set_extension(\"newword\",default=False,force=True)\n",
    "nlp = spacy.load(\"de_core_news_lg\")\n"
   ]
  },
  {
   "cell_type": "code",
   "execution_count": 6,
   "metadata": {},
   "outputs": [],
   "source": [
    "title1= \"title1\"\n",
    "text = \"\"\"\n",
    "Welche Eigenschaften haben Menschen, die sich durch innovative Ideen auszeichnen? Was haben sie gemeinsam? Ist es möglich, sie unter Tausenden zu erkennen? Eine sechsjährige Studie versuchte, diese Fragen zu beantworten.\n",
    "In dem Bewusstsein, dass Innovationsfähigkeit eine wesentliche Eigenschaft für den Erfolg und das Überleben eines Unternehmens ist, fragen sich Top-Manager/-innen oft, wie sie innovative Mitarbeitende finden sowie selbst innovativer werden können. \n",
    "Drei Universitätsprofessoren und Forscher haben deshalb sechs Jahre lang innovative Unternehmer/-innen und Manager/-innen beobachtet und interviewt, um zu verstehen, was diese voneinander unterscheidet und den einen zum Steve Jobs und die andere zur Besitzerin eines Franchise-Geschäfts macht. Diese Studie führte zur Entdeckung von fünf essenziellen Fähigkeiten, welche diejenigen charakterisieren, die einhellig als Innovatoren bzw. Innovatorinnen angesehen werden und nach Ansicht der Wissenschaftler das besitzen, was sie als \"DNA des Innovators\" bezeichnen:\n",
    "1. Die Fähigkeit, Assoziationen zu bilden bzw. Elemente (Probleme, Ideen, Fragen, ...) zu verknüpfen, die auf den ersten Blick keinen direkten Bezug zueinander haben: Dieses Phänomen wurde von dem Unternehmer Frans Johansson als \"Medici-Effekt\" beschrieben, welcher sich auf die kreative Explosion in Florenz bezieht, als die Medici-Familie Menschen aus verschiedenen Disziplinen (Dichtung, Bildhauerei, Architektur, Philosophie, Malerei,...) zusammenbrachte und durch die Interaktion zwischen verschiedenen Wissens- und Tätigkeitsbereichen eine Periode außergewöhnlicher Kreativität herbeiführte, die man heute als Renaissance kennt. Das Gehirn assoziiert Ideen basierend auf den Erfahrungen, die gemacht wurden. Je vielfältiger diese Erfahrungen sind, desto mehr ist das Gehirn in der Lage, nicht offensichtliche Assoziationen zu erzeugen.\n",
    "\"\"\"\n",
    "title2 = \"title2\"\n",
    "text2=\"\"\"\n",
    "2. Die Fähigkeit, Fragen zu stellen: Wie jemand einmal sagte: \"Das Wichtigste ist nicht, die richtigen Antworten zu finden, sondern die richtigen Fragen zu stellen\". Während Unternehmer/-innen sich fragen, wie sie bestehende Prozesse verbessern können, denken Innovatoren und Innovatorinnen darüber nach, wie sie den Status quo und die traditionelle Denkweise in Frage stellen können und fragen sich selbst: \"Wenn wir XY tun würden, was würde dann passieren\"?\n",
    "3. Die Fähigkeit zu beobachten: Innovatoren und Innovatorinnen beobachten sorgfältig die Welt um sich herum, egal ob es sich um potenzielle Kunden, Lieferanten, konkurrierende Unternehmen oder normale Menschen handelt, die arbeiten und ihren täglichen Aktivitäten nachgehen. Dadurch erhalten sie Einblicke und folglich Ideen, wie bestimmte Dinge auf eine neue Art und Weise erledigt werden können.  \n",
    "4. Die Fähigkeit zu experimentieren: Genau wie Wissenschaftler und Wissenschaftlerinnen testen auch Innovatoren und Innovatorinnen aktiv ihre Ideen, erstellen Prototypen und initiieren Pilotprojekte. Das Leben und Arbeiten im Ausland ist beispielsweise eine nützliche Erfahrung, um innovative Ideen zu stimulieren: Es scheint, dass, je mehr Länder eine Person besucht hat, desto wahrscheinlicher ist es, dass sie diese Erfahrungen nutzt, um innovative Dienstleistungen oder Produkte zu erschaffen. Tatsächlich zeigen Untersuchungen, dass Unternehmen, die von CEOs geführt werden, welche vor deren Ernennung mindestens eine internationale Erfahrung gesammelt haben, finanziell besser abschneiden als Unternehmen, die von CEOs ohne diese Erfahrung geführt werden. \n",
    "5. Networking: Innovative Unternehmer/-innen treffen und sprechen mit Menschen aus verschiedenen Berufsfeldern und mit unterschiedlichen Sichtweisen, um ihr Wissen zu erweitern und die Dinge aus einer anderen Perspektive zu sehen.\n",
    "Die gute Nachricht ist, dass wir, auch wenn wir nicht mit der richtigen DNA geboren wurden, trotzdem zu Innovator/-innen werden können, indem wir die fünf oben beschriebenen Fähigkeiten regelmäßig trainieren, sodass die entsprechenden Verhaltensweisen mit der Zeit automatisiert werden. Kurz gesagt: Innovatoren und Innovatorinnen werden nicht als solche geboren, sondern zu diesen gemacht. \n",
    "Stimmst du den Forschungsergebnissen zu, dass Innovator/-innen nicht geboren, sondern gemacht werden? Sind deiner Meinung nach noch andere Fähigkeiten erforderlich, um innovative Ideen entwickeln zu können?\n",
    "\"\"\""
   ]
  },
  {
   "cell_type": "code",
   "execution_count": 7,
   "metadata": {},
   "outputs": [],
   "source": [
    "doc = nlp(text)\n",
    "assert doc.has_annotation(\"SENT_START\")\n",
    "computeattli(doc)\n",
    "computeformat(doc)\n",
    "printFormattedText(doc)\n",
    "newwordchecker(doc,\"pablohistory.csv\",\"vocabulary.csv\",title1)\n"
   ]
  },
  {
   "cell_type": "code",
   "execution_count": 8,
   "metadata": {},
   "outputs": [],
   "source": [
    "computeQuestions(doc)\n",
    "quizpipeline(doc,title1)"
   ]
  },
  {
   "cell_type": "code",
   "execution_count": 9,
   "metadata": {},
   "outputs": [],
   "source": [
    "doc = nlp(text2)\n",
    "assert doc.has_annotation(\"SENT_START\")\n",
    "computeattli(doc)\n",
    "computeformat(doc)\n",
    "printFormattedText(doc)\n",
    "newwordchecker(doc,\"pablohistory.csv\",\"vocabulary.csv\",title2)\n",
    "computeQuestions(doc)\n",
    "quizpipeline(doc,title1)"
   ]
  },
  {
   "cell_type": "code",
   "execution_count": 16,
   "metadata": {},
   "outputs": [
    {
     "data": {
      "text/plain": [
       "\n",
       "2. Die Fähigkeit, Fragen zu stellen: Wie jemand einmal sagte: \"Das Wichtigste ist nicht, die richtigen Antworten zu finden, sondern die richtigen Fragen zu stellen\". Während Unternehmer/-innen sich fragen, wie sie bestehende Prozesse verbessern können, denken Innovatoren und Innovatorinnen darüber nach, wie sie den Status quo und die traditionelle Denkweise in Frage stellen können und fragen sich selbst: \"Wenn wir XY tun würden, was würde dann passieren\"?\n",
       "3. Die Fähigkeit zu beobachten: Innovatoren und Innovatorinnen beobachten sorgfältig die Welt um sich herum, egal ob es sich um potenzielle Kunden, Lieferanten, konkurrierende Unternehmen oder normale Menschen handelt, die arbeiten und ihren täglichen Aktivitäten nachgehen. Dadurch erhalten sie Einblicke und folglich Ideen, wie bestimmte Dinge auf eine neue Art und Weise erledigt werden können.  \n",
       "4. Die Fähigkeit zu experimentieren: Genau wie Wissenschaftler und Wissenschaftlerinnen testen auch Innovatoren und Innovatorinnen aktiv ihre Ideen, erstellen Prototypen und initiieren Pilotprojekte. Das Leben und Arbeiten im Ausland ist beispielsweise eine nützliche Erfahrung, um innovative Ideen zu stimulieren: Es scheint, dass, je mehr Länder eine Person besucht hat, desto wahrscheinlicher ist es, dass sie diese Erfahrungen nutzt, um innovative Dienstleistungen oder Produkte zu erschaffen. Tatsächlich zeigen Untersuchungen, dass Unternehmen, die von CEOs geführt werden, welche vor deren Ernennung mindestens eine internationale Erfahrung gesammelt haben, finanziell besser abschneiden als Unternehmen, die von CEOs ohne diese Erfahrung geführt werden. \n",
       "5. Networking: Innovative Unternehmer/-innen treffen und sprechen mit Menschen aus verschiedenen Berufsfeldern und mit unterschiedlichen Sichtweisen, um ihr Wissen zu erweitern und die Dinge aus einer anderen Perspektive zu sehen.\n",
       "Die gute Nachricht ist, dass wir, auch wenn wir nicht mit der richtigen DNA geboren wurden, trotzdem zu Innovator/-innen werden können, indem wir die fünf oben beschriebenen Fähigkeiten regelmäßig trainieren, sodass die entsprechenden Verhaltensweisen mit der Zeit automatisiert werden. Kurz gesagt: Innovatoren und Innovatorinnen werden nicht als solche geboren, sondern zu diesen gemacht. \n",
       "Stimmst du den Forschungsergebnissen zu, dass Innovator/-innen nicht geboren, sondern gemacht werden? Sind deiner Meinung nach noch andere Fähigkeiten erforderlich, um innovative Ideen entwickeln zu können?"
      ]
     },
     "execution_count": 16,
     "metadata": {},
     "output_type": "execute_result"
    }
   ],
   "source": [
    "doc[5]._."
   ]
  },
  {
   "cell_type": "code",
   "execution_count": 11,
   "metadata": {},
   "outputs": [
    {
     "data": {
      "text/plain": [
       "6"
      ]
     },
     "execution_count": 11,
     "metadata": {},
     "output_type": "execute_result"
    }
   ],
   "source": [
    "1+2+3"
   ]
  },
  {
   "cell_type": "code",
   "execution_count": 15,
   "metadata": {},
   "outputs": [
    {
     "data": {
      "text/plain": [
       "Case=Acc|Gender=Fem|Number=Plur"
      ]
     },
     "execution_count": 15,
     "metadata": {},
     "output_type": "execute_result"
    }
   ],
   "source": [
    "doc[5].morph"
   ]
  },
  {
   "cell_type": "code",
   "execution_count": null,
   "metadata": {},
   "outputs": [],
   "source": []
  },
  {
   "cell_type": "code",
   "execution_count": null,
   "metadata": {},
   "outputs": [],
   "source": []
  },
  {
   "cell_type": "code",
   "execution_count": null,
   "metadata": {},
   "outputs": [],
   "source": []
  },
  {
   "cell_type": "code",
   "execution_count": null,
   "metadata": {},
   "outputs": [],
   "source": []
  },
  {
   "cell_type": "code",
   "execution_count": null,
   "metadata": {},
   "outputs": [],
   "source": [
    "see = pd.read_csv(\"vocabulary.csv\",sep=\"|\")"
   ]
  },
  {
   "cell_type": "code",
   "execution_count": null,
   "metadata": {},
   "outputs": [],
   "source": []
  },
  {
   "cell_type": "code",
   "execution_count": null,
   "metadata": {},
   "outputs": [],
   "source": []
  },
  {
   "cell_type": "code",
   "execution_count": null,
   "metadata": {},
   "outputs": [],
   "source": [
    "see[see[\"counter\"]==1]"
   ]
  },
  {
   "cell_type": "code",
   "execution_count": null,
   "metadata": {},
   "outputs": [],
   "source": []
  },
  {
   "cell_type": "code",
   "execution_count": null,
   "metadata": {},
   "outputs": [],
   "source": []
  },
  {
   "cell_type": "code",
   "execution_count": null,
   "metadata": {},
   "outputs": [],
   "source": [
    "word = input1[\"word\"].iloc[0]"
   ]
  },
  {
   "cell_type": "code",
   "execution_count": null,
   "metadata": {},
   "outputs": [],
   "source": []
  },
  {
   "cell_type": "code",
   "execution_count": null,
   "metadata": {},
   "outputs": [],
   "source": [
    "input2.loc[word in input2[\"entries\"]]"
   ]
  },
  {
   "cell_type": "code",
   "execution_count": null,
   "metadata": {},
   "outputs": [],
   "source": [
    "findword(input2,input1[\"word\"].iloc[0])"
   ]
  },
  {
   "cell_type": "code",
   "execution_count": null,
   "metadata": {},
   "outputs": [],
   "source": [
    "input2"
   ]
  },
  {
   "cell_type": "code",
   "execution_count": null,
   "metadata": {},
   "outputs": [],
   "source": [
    "input1"
   ]
  },
  {
   "cell_type": "code",
   "execution_count": null,
   "metadata": {},
   "outputs": [],
   "source": []
  },
  {
   "cell_type": "code",
   "execution_count": null,
   "metadata": {},
   "outputs": [],
   "source": []
  },
  {
   "cell_type": "code",
   "execution_count": null,
   "metadata": {},
   "outputs": [],
   "source": [
    "doc = nlp(text)"
   ]
  },
  {
   "cell_type": "code",
   "execution_count": null,
   "metadata": {},
   "outputs": [],
   "source": [
    "A = pd.DataFrame({\"a\":[1,2,3],\"b\":[4,5,6],\"c\":[7,8,9]})"
   ]
  },
  {
   "cell_type": "code",
   "execution_count": null,
   "metadata": {},
   "outputs": [],
   "source": [
    "pd.DataFrame({\"a\":[1,2],\"b\":[4,5]})"
   ]
  },
  {
   "cell_type": "code",
   "execution_count": null,
   "metadata": {},
   "outputs": [],
   "source": [
    "pd.concat({})"
   ]
  },
  {
   "cell_type": "code",
   "execution_count": null,
   "metadata": {},
   "outputs": [],
   "source": [
    "\n",
    "\n",
    "# dd/mm/YY\n",
    "d1 = \n"
   ]
  },
  {
   "cell_type": "code",
   "execution_count": null,
   "metadata": {},
   "outputs": [],
   "source": []
  },
  {
   "cell_type": "code",
   "execution_count": null,
   "metadata": {},
   "outputs": [],
   "source": []
  },
  {
   "cell_type": "code",
   "execution_count": null,
   "metadata": {},
   "outputs": [],
   "source": [
    "def enrichnewvocabulary(newvocdf,vocab, doc):\n",
    "    #prendere la frase di cui forma parte nel futuro/buscar en google\n",
    "    "
   ]
  },
  {
   "cell_type": "code",
   "execution_count": null,
   "metadata": {},
   "outputs": [],
   "source": [
    "def createquestions(,)"
   ]
  },
  {
   "cell_type": "code",
   "execution_count": null,
   "metadata": {},
   "outputs": [],
   "source": []
  },
  {
   "cell_type": "code",
   "execution_count": null,
   "metadata": {},
   "outputs": [],
   "source": [
    "pd.concat([pd.Series([1,2,3]),pd.Series([2,3,4])])"
   ]
  },
  {
   "cell_type": "code",
   "execution_count": null,
   "metadata": {},
   "outputs": [],
   "source": [
    "AUX[0].apply(lambda x: x.pos_).value_counts()"
   ]
  },
  {
   "cell_type": "code",
   "execution_count": null,
   "metadata": {},
   "outputs": [],
   "source": [
    "base = pd.Series(doc)\n",
    "AUX = pd.concat([base,base.apply(lambda x:x._.att_li).apply(pd.Series)],axis=1)\n"
   ]
  },
  {
   "cell_type": "code",
   "execution_count": null,
   "metadata": {},
   "outputs": [],
   "source": [
    "\n"
   ]
  },
  {
   "cell_type": "code",
   "execution_count": null,
   "metadata": {},
   "outputs": [],
   "source": [
    "AUX[\"subtype\"].value_counts()"
   ]
  },
  {
   "cell_type": "code",
   "execution_count": null,
   "metadata": {},
   "outputs": [],
   "source": []
  },
  {
   "cell_type": "code",
   "execution_count": null,
   "metadata": {
    "scrolled": true
   },
   "outputs": [],
   "source": []
  },
  {
   "cell_type": "code",
   "execution_count": null,
   "metadata": {},
   "outputs": [],
   "source": []
  },
  {
   "cell_type": "code",
   "execution_count": null,
   "metadata": {
    "scrolled": true
   },
   "outputs": [],
   "source": [
    "set(AUX[\"aux_labels\"].sum())"
   ]
  },
  {
   "cell_type": "code",
   "execution_count": null,
   "metadata": {},
   "outputs": [],
   "source": [
    "def questiongroup(x):\n",
    "    "
   ]
  },
  {
   "cell_type": "code",
   "execution_count": null,
   "metadata": {},
   "outputs": [],
   "source": [
    "computeattli(doc)"
   ]
  },
  {
   "cell_type": "code",
   "execution_count": null,
   "metadata": {},
   "outputs": [],
   "source": []
  },
  {
   "cell_type": "code",
   "execution_count": null,
   "metadata": {},
   "outputs": [],
   "source": [
    "\n",
    "nonVERBpipeline(doc[9])"
   ]
  },
  {
   "cell_type": "code",
   "execution_count": null,
   "metadata": {},
   "outputs": [],
   "source": [
    "doc[30]._.att_li"
   ]
  },
  {
   "cell_type": "code",
   "execution_count": null,
   "metadata": {},
   "outputs": [],
   "source": [
    "#3 aspects NOUN, PRON, PROPN, ADJ, DET -> noun\n",
    "# ADV, CCONJ, SCONJ, ADP (sz VERB) -> fixed elements\n",
    "# AUX, VERB, ADP (cn VERB) -> verb"
   ]
  },
  {
   "cell_type": "code",
   "execution_count": null,
   "metadata": {},
   "outputs": [],
   "source": [
    "def findUV(x):\n",
    "    dictmorph = x.morph.to_dict()\n",
    "    for i in dictmorph:\n",
    "        if i in [\"Case\",\"Gender\",\"Number\"]:\n",
    "            i_.extra_info += dictmorph[i].upper()\n",
    "        if i.dep_ == \"svp\":\n",
    "            i._.extra_info += [\"SEPARABLE_VERB_p\"]\n",
    "            x._.extra_info += [\"SEPARABLE_VERB\"]\n",
    "            x._.svp = i.text\n",
    "\n",
    "def compute_att_li(token):\n",
    "    "
   ]
  },
  {
   "cell_type": "code",
   "execution_count": null,
   "metadata": {},
   "outputs": [],
   "source": []
  },
  {
   "cell_type": "code",
   "execution_count": null,
   "metadata": {},
   "outputs": [],
   "source": [
    "AUX[\"POS\"].value_counts()"
   ]
  },
  {
   "cell_type": "code",
   "execution_count": null,
   "metadata": {},
   "outputs": [],
   "source": [
    "#VISUAL AID\n",
    "#NOUN e PROPN: Colorarli in base al numero, caso e genere\n",
    "#VERB, AUX, prep de separabili: grassetto\n",
    "\n",
    "#Vocabolario - significato\n",
    "#ADJ, ...\n",
    "\n",
    "#analisi sintatico\n",
    "\n",
    "#storico\n",
    "\n",
    "\n",
    "\n",
    "#BASIC:\n"
   ]
  },
  {
   "cell_type": "markdown",
   "metadata": {},
   "source": [
    "# Nouns"
   ]
  },
  {
   "cell_type": "code",
   "execution_count": null,
   "metadata": {},
   "outputs": [],
   "source": []
  },
  {
   "cell_type": "code",
   "execution_count": null,
   "metadata": {},
   "outputs": [],
   "source": [
    "AUX[\"POS\"].value_counts()"
   ]
  },
  {
   "cell_type": "code",
   "execution_count": null,
   "metadata": {},
   "outputs": [],
   "source": [
    "AUX[AUX[\"POS\"]==\"PART\"]"
   ]
  },
  {
   "cell_type": "code",
   "execution_count": null,
   "metadata": {
    "scrolled": true
   },
   "outputs": [],
   "source": [
    "AUX[\"POS\"].value_counts()"
   ]
  },
  {
   "cell_type": "code",
   "execution_count": null,
   "metadata": {},
   "outputs": [],
   "source": []
  },
  {
   "cell_type": "code",
   "execution_count": null,
   "metadata": {},
   "outputs": [],
   "source": [
    "AUX[AUX[\"POS\"]==\"NOUN\"][\"token\"].apply(lambda x: x.morph.to_dict())#.apply(pd.Series)"
   ]
  },
  {
   "cell_type": "code",
   "execution_count": null,
   "metadata": {},
   "outputs": [],
   "source": [
    "nouns = pd.concat([AUX[AUX[\"POS\"]==\"NOUN\"],AUX[AUX[\"POS\"]==\"NOUN\"][\"morph\"].apply(lambda x: x.to_dict()).apply(pd.Series)],axis=1)"
   ]
  },
  {
   "cell_type": "markdown",
   "metadata": {},
   "source": [
    "# Verbs"
   ]
  },
  {
   "cell_type": "code",
   "execution_count": null,
   "metadata": {},
   "outputs": [],
   "source": [
    "verbs = pd.concat([AUX[AUX[\"POS\"]==\"VERB\"],AUX[AUX[\"POS\"]==\"VERB\"][\"morph\"].apply(lambda x: x.to_dict()).apply(pd.Series)],axis=1)\n",
    "verbs[\"token\"].apply(findUV)\n",
    "verbs[\"token\"].apply(findAUX)\n",
    "verbs[\"token\"].apply(check_reflexive_verb)"
   ]
  },
  {
   "cell_type": "code",
   "execution_count": null,
   "metadata": {},
   "outputs": [],
   "source": [
    "verbs"
   ]
  },
  {
   "cell_type": "code",
   "execution_count": null,
   "metadata": {},
   "outputs": [],
   "source": [
    "verbtok = nlp(\"Ich ziehe mich an, kämme mich und putze mir die Zähne.\")[5]\n"
   ]
  },
  {
   "cell_type": "code",
   "execution_count": null,
   "metadata": {},
   "outputs": [],
   "source": [
    "nlp(\"Ich ziehe mich an, kämme mich und putze mir die Zähne.\")[2].dep_"
   ]
  },
  {
   "cell_type": "code",
   "execution_count": null,
   "metadata": {},
   "outputs": [],
   "source": [
    "nlp(\"Ich ziehe mich an, kämme mich und putze mir die Zähne.\")[2].pos_"
   ]
  },
  {
   "cell_type": "code",
   "execution_count": null,
   "metadata": {},
   "outputs": [],
   "source": [
    "verbtok.morph"
   ]
  },
  {
   "cell_type": "code",
   "execution_count": null,
   "metadata": {},
   "outputs": [],
   "source": [
    "list(verbtok.children)[0].pos_"
   ]
  },
  {
   "cell_type": "code",
   "execution_count": null,
   "metadata": {},
   "outputs": [],
   "source": [
    "list(verbtok.children)[0].morph.to_dict()"
   ]
  },
  {
   "cell_type": "code",
   "execution_count": null,
   "metadata": {},
   "outputs": [],
   "source": [
    "nlp(\"sich freuen\")[0].morph.to_dict()"
   ]
  },
  {
   "cell_type": "code",
   "execution_count": null,
   "metadata": {},
   "outputs": [],
   "source": [
    "adder"
   ]
  },
  {
   "cell_type": "code",
   "execution_count": null,
   "metadata": {},
   "outputs": [],
   "source": [
    "nlp(\"Ich ziehe mich an, kämme mich und putze mir die Zähne.\")[6].pos_"
   ]
  },
  {
   "cell_type": "code",
   "execution_count": null,
   "metadata": {},
   "outputs": [],
   "source": []
  },
  {
   "cell_type": "code",
   "execution_count": null,
   "metadata": {},
   "outputs": [],
   "source": [
    "spacy.explain('oa')"
   ]
  },
  {
   "cell_type": "code",
   "execution_count": null,
   "metadata": {},
   "outputs": [],
   "source": [
    "!!!!! verbs reflexivos jodeeeeeeeeeeeerrrrrrrrrrr"
   ]
  },
  {
   "cell_type": "code",
   "execution_count": null,
   "metadata": {},
   "outputs": [],
   "source": [
    "verb"
   ]
  },
  {
   "cell_type": "code",
   "execution_count": null,
   "metadata": {},
   "outputs": [],
   "source": [
    "AUX[AUX[\"POS\"]==\"PRON\"]"
   ]
  },
  {
   "cell_type": "code",
   "execution_count": null,
   "metadata": {},
   "outputs": [],
   "source": [
    "AUX[\"POS\"].value_counts()"
   ]
  },
  {
   "cell_type": "code",
   "execution_count": null,
   "metadata": {},
   "outputs": [],
   "source": [
    "findAUX"
   ]
  },
  {
   "cell_type": "code",
   "execution_count": null,
   "metadata": {},
   "outputs": [],
   "source": []
  },
  {
   "cell_type": "code",
   "execution_count": null,
   "metadata": {},
   "outputs": [],
   "source": [
    "verbs[verbs[\"aux\"].isna()==False]"
   ]
  },
  {
   "cell_type": "code",
   "execution_count": null,
   "metadata": {},
   "outputs": [],
   "source": [
    "nlp(\"Ich habe alles gemacht\")[1].pos_"
   ]
  },
  {
   "cell_type": "code",
   "execution_count": null,
   "metadata": {},
   "outputs": [],
   "source": [
    "spacy.explain(\"svp\")"
   ]
  },
  {
   "cell_type": "code",
   "execution_count": null,
   "metadata": {},
   "outputs": [],
   "source": [
    "verbs"
   ]
  },
  {
   "cell_type": "code",
   "execution_count": null,
   "metadata": {},
   "outputs": [],
   "source": [
    "list(verbs[\"token\"].iloc[9].children)"
   ]
  },
  {
   "cell_type": "code",
   "execution_count": null,
   "metadata": {},
   "outputs": [],
   "source": [
    "morpho.to_dict()"
   ]
  },
  {
   "cell_type": "code",
   "execution_count": null,
   "metadata": {},
   "outputs": [],
   "source": []
  }
 ],
 "metadata": {
  "kernelspec": {
   "display_name": "Python 3",
   "language": "python",
   "name": "python3"
  },
  "language_info": {
   "codemirror_mode": {
    "name": "ipython",
    "version": 3
   },
   "file_extension": ".py",
   "mimetype": "text/x-python",
   "name": "python",
   "nbconvert_exporter": "python",
   "pygments_lexer": "ipython3",
   "version": "3.6.5"
  }
 },
 "nbformat": 4,
 "nbformat_minor": 2
}
